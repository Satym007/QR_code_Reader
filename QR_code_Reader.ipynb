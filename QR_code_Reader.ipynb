{
 "cells": [
  {
   "cell_type": "code",
   "execution_count": 2,
   "id": "6f440ee5",
   "metadata": {},
   "outputs": [
    {
     "name": "stdout",
     "output_type": "stream",
     "text": [
      "Decoded Code: HELLO THIS is satyam\n",
      "Decoded code written to output.txt\n"
     ]
    }
   ],
   "source": [
    "import cv2\n",
    "\n",
    "def decode_qr(image_path):\n",
    "    # Load the image\n",
    "    image = cv2.imread(image_path)\n",
    "\n",
    "    # Initialize the QR code detector\n",
    "    qr_code_detector = cv2.QRCodeDetector()\n",
    "\n",
    "    # Detect and decode the QR code\n",
    "    retval, decoded_info, points, straight_qrcode = qr_code_detector.detectAndDecodeMulti(image)\n",
    "\n",
    "    # Extract the decoded information\n",
    "    if retval:\n",
    "        decoded_code = decoded_info[0]\n",
    "        return decoded_code\n",
    "    else:\n",
    "        return None\n",
    "\n",
    "def write_to_file(decoded_code, output_file='output.txt'):\n",
    "    with open(output_file, 'w') as f:\n",
    "        f.write(decoded_code)\n",
    "\n",
    "# Example usage without main and if __name__ block\n",
    "image_path = 'C:/Users/Satya/QR_code_project/qrcode2.png'\n",
    "decoded_code = decode_qr(image_path)\n",
    "\n",
    "if decoded_code:\n",
    "    print('Decoded Code:', decoded_code)\n",
    "\n",
    "    # Write the decoded code to a text file\n",
    "    write_to_file(decoded_code)\n",
    "    print('Decoded code written to output.txt')\n",
    "else:\n",
    "    print('No QR code found')\n"
   ]
  },
  {
   "cell_type": "code",
   "execution_count": null,
   "id": "544f45db",
   "metadata": {},
   "outputs": [],
   "source": []
  }
 ],
 "metadata": {
  "kernelspec": {
   "display_name": "Python 3 (ipykernel)",
   "language": "python",
   "name": "python3"
  },
  "language_info": {
   "codemirror_mode": {
    "name": "ipython",
    "version": 3
   },
   "file_extension": ".py",
   "mimetype": "text/x-python",
   "name": "python",
   "nbconvert_exporter": "python",
   "pygments_lexer": "ipython3",
   "version": "3.9.7"
  }
 },
 "nbformat": 4,
 "nbformat_minor": 5
}
